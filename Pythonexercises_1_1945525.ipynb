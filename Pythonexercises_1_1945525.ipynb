{
  "nbformat": 4,
  "nbformat_minor": 0,
  "metadata": {
    "colab": {
      "provenance": [],
      "authorship_tag": "ABX9TyMi7RUhCR0il+jQZag3vExU",
      "include_colab_link": true
    },
    "kernelspec": {
      "name": "python3",
      "display_name": "Python 3"
    },
    "language_info": {
      "name": "python"
    }
  },
  "cells": [
    {
      "cell_type": "markdown",
      "metadata": {
        "id": "view-in-github",
        "colab_type": "text"
      },
      "source": [
        "<a href=\"https://colab.research.google.com/github/gaelpm07/PythonExercises_1-1945525/blob/main/Pythonexercises_1_1945525.ipynb\" target=\"_parent\"><img src=\"https://colab.research.google.com/assets/colab-badge.svg\" alt=\"Open In Colab\"/></a>"
      ]
    },
    {
      "cell_type": "markdown",
      "source": [
        "Text Analysis Tool: Create a Python program that reads a text file and performs various analyses on its content. The program should: Count the number of words, sentences, and paragraphs. Calculate the average word length. Identify the most common words and their frequencies.\n"
      ],
      "metadata": {
        "id": "AqkZNLV-xQFx"
      }
    },
    {
      "cell_type": "code",
      "source": [
        "import re\n",
        "from collections import Counter\n",
        "\n",
        "def analyze_text(filename):\n",
        "    try:\n",
        "        with open(filename, 'r', encoding='utf-8') as file:\n",
        "            text = file.read()\n",
        "\n",
        "            # Count words, sentences, and paragraphs\n",
        "            word_count = len(re.findall(r'\\b\\w+\\b', text))\n",
        "            sentence_count = len(re.split(r'[.!?]', text))\n",
        "            paragraph_count = len(re.split(r'\\n\\s*\\n', text))\n",
        "\n",
        "            # Calculate average word length\n",
        "            words = re.findall(r'\\b\\w+\\b', text)\n",
        "            total_word_length = sum(len(word) for word in words)\n",
        "            average_word_length = total_word_length / word_count if word_count > 0 else 0\n",
        "\n",
        "            # Identify most common words and their frequencies\n",
        "            words = re.findall(r'\\b\\w+\\b', text.lower())\n",
        "            word_freq = Counter(words)\n",
        "            most_common_words = word_freq.most_common(10)  # Get the top 10 most common words\n",
        "\n",
        "            print(f\"Number of words: {word_count}\")\n",
        "            print(f\"Number of sentences: {sentence_count}\")\n",
        "            print(f\"Number of paragraphs: {paragraph_count}\")\n",
        "            print(f\"Average word length: {average_word_length:.2f} characters\")\n",
        "            print(\"\\nTop 10 most common words and their frequencies:\")\n",
        "            for word, frequency in most_common_words:\n",
        "                print(f\"{word}: {frequency}\")\n",
        "\n",
        "    except FileNotFoundError:\n",
        "        print(f\"The file '{filename}' was not found.\")\n",
        "\n",
        "if __name__ == \"__main__\":\n",
        "    filename = input(\"Enter the name of the text file: \")\n",
        "    analyze_text(filename)\n"
      ],
      "metadata": {
        "colab": {
          "base_uri": "https://localhost:8080/"
        },
        "id": "EzwJg4709W8e",
        "outputId": "4c69612b-fc8e-480c-eda5-541c58d77095"
      },
      "execution_count": null,
      "outputs": [
        {
          "output_type": "stream",
          "name": "stdout",
          "text": [
            "Enter the name of the text file: lol\n",
            "The file 'lol' was not found.\n"
          ]
        }
      ]
    },
    {
      "cell_type": "markdown",
      "source": [
        "Hangman Game: Create a Python program that allows a user to play the game of Hangman. The program should randomly select a word from a predefined list, and the player must guess letters one at a time until they guess the word correctly or run out of attempts."
      ],
      "metadata": {
        "id": "KOkfqk1OxX-Y"
      }
    },
    {
      "cell_type": "code",
      "source": [
        "import random\n",
        "\n",
        "def hangman():\n",
        "    word_list = ['dinero', 'carros', 'fiestas', 'comida', 'mexico', 'sueño']\n",
        "    random_word = random.choice(word_list)\n",
        "    guessed_word = ['_'] * len(random_word)\n",
        "    attempts = len(random_word) + 3\n",
        "\n",
        "    print('Welcome to Hangman!')\n",
        "    while attempts > 0:\n",
        "        print(''.join(guessed_word))\n",
        "        guess = input('Guess a letter: ')\n",
        "\n",
        "        if guess in random_word:\n",
        "            for i in range(len(random_word)):\n",
        "                if random_word[i] == guess:\n",
        "                    guessed_word[i] = guess\n",
        "        else:\n",
        "            print('That letter is not in the word.')\n",
        "            attempts -= 1\n",
        "\n",
        "        if '_' not in guessed_word:\n",
        "            print('Congratulations, you won!')\n",
        "            break\n",
        "    else:\n",
        "        print('You lost! The word was ' + random_word)\n",
        "\n",
        "hangman()\n"
      ],
      "metadata": {
        "colab": {
          "base_uri": "https://localhost:8080/"
        },
        "id": "hweFYIDHDiWZ",
        "outputId": "d2c22b2a-afa3-40d2-8245-caa7ee543dab"
      },
      "execution_count": 2,
      "outputs": [
        {
          "output_type": "stream",
          "name": "stdout",
          "text": [
            "Welcome to Hangman!\n",
            "______\n",
            "Guess a letter: i\n",
            "___i__\n",
            "Guess a letter: d\n",
            "___id_\n",
            "Guess a letter: c\n",
            "c__id_\n",
            "Guess a letter: om\n",
            "c__id_\n",
            "Guess a letter: o\n",
            "co_id_\n",
            "Guess a letter: m\n",
            "comid_\n",
            "Guess a letter: a\n",
            "Congratulations, you won!\n"
          ]
        }
      ]
    },
    {
      "cell_type": "markdown",
      "source": [
        "Number Guessing Game: Create a program that generates a random number between 1 and 100, and then asks the user to guess the number. The program should provide hints to the user if the guessed number is greater or less than the target number, and keep asking for a new guess until the user guesses correctly."
      ],
      "metadata": {
        "id": "ffSExpFwxjr3"
      }
    },
    {
      "cell_type": "code",
      "source": [
        "import random\n",
        "\n",
        "def guess_the_number():\n",
        "    number_to_guess = random.randint(1, 100)\n",
        "    guess = None\n",
        "\n",
        "    while guess != number_to_guess:\n",
        "        guess = int(input(\"Guess a number between 1 and 100: \"))\n",
        "        if guess < number_to_guess:\n",
        "            print(\"Too low! Try again.\")\n",
        "        elif guess > number_to_guess:\n",
        "            print(\"Too high! Try again.\")\n",
        "\n",
        "    print(\"Congratulations! You guessed the number.\")\n",
        "\n",
        "guess_the_number()\n",
        "\n"
      ],
      "metadata": {
        "colab": {
          "base_uri": "https://localhost:8080/"
        },
        "id": "7kG3ep0sFFne",
        "outputId": "a15fecdb-d4f8-4d2c-b11f-e44ca7481a8f"
      },
      "execution_count": 4,
      "outputs": [
        {
          "output_type": "stream",
          "name": "stdout",
          "text": [
            "Guess a number between 1 and 10: 8\n",
            "Too high! Try again.\n",
            "Guess a number between 1 and 10: 5\n",
            "Too high! Try again.\n",
            "Guess a number between 1 and 10: 3\n",
            "Congratulations! You guessed the number.\n"
          ]
        }
      ]
    }
  ]
}